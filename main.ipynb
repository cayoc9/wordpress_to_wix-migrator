{
 "cells": [
  {
   "cell_type": "markdown",
   "id": "7514cd18",
   "metadata": {},
   "source": [
    "Planejamento da migração"
   ]
  },
  {
   "cell_type": "code",
   "execution_count": null,
   "id": "a7752c14",
   "metadata": {
    "vscode": {
     "languageId": "plaintext"
    }
   },
   "outputs": [],
   "source": []
  }
 ],
 "metadata": {
  "language_info": {
   "name": "python"
  }
 },
 "nbformat": 4,
 "nbformat_minor": 5
}
