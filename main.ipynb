{
 "cells": [
  {
   "cell_type": "markdown",
   "id": "b133aaf3",
   "metadata": {},
   "source": [
    "base de dados:\n",
    "- dados dos posts wordpress (pre-migração)\n",
    "- dados dos posts wix (pós-migração)\n",
    "\n",
    "Como organizar os dados de forma que facilite a migração e tratamento entre as duas plataformas?\n",
    "\n",
    "- usar duckdb para compilar os dados relacionado a cada post\n",
    "- "
   ]
  },
  {
   "cell_type": "code",
   "execution_count": 3,
   "id": "6a1af3f0",
   "metadata": {},
   "outputs": [
    {
     "name": "stdout",
     "output_type": "stream",
     "text": [
      "Columns in 'items' using DESCRIBE:\n",
      "- id (INTEGER)\n",
      "- name (VARCHAR)\n",
      "\n",
      "------------------------------\n",
      "\n",
      "Columns in 'items' using PRAGMA table_info:\n",
      "- id (INTEGER)\n",
      "- name (VARCHAR)\n"
     ]
    }
   ],
   "source": [
    "import duckdb\n",
    "\n",
    "# Connect to an in-memory database\n",
    "# con = duckdb.connect(database=':memory:', read_only=False)\n",
    "\n",
    "# Or connect to a file\n",
    "con = duckdb.connect(database='data/migration.duckdb', read_only=False)\n",
    "\n",
    "# Create a sample table for demonstration\n",
    "con.execute(\"CREATE TABLE items(id INTEGER, name VARCHAR);\");\n",
    "con.execute(\"INSERT INTO items VALUES (1, 'Laptop'), (2, 'Mouse'), (3, 'Keyboard');\");\n",
    "\n",
    "# Query to show columns from a specific table\n",
    "table_name = 'items'\n",
    "\n",
    "# Method 1: Using DESCRIBE\n",
    "print(f\"Columns in '{table_name}' using DESCRIBE:\")\n",
    "describe_result = con.execute(f\"DESCRIBE {table_name}\").fetchall()\n",
    "for col in describe_result:\n",
    "    print(f\"- {col[0]} ({col[1]})\")\n",
    "\n",
    "print('\\n' + '-'*30 + '\\n')\n",
    "\n",
    "# Method 2: Using PRAGMA table_info\n",
    "print(f\"Columns in '{table_name}' using PRAGMA table_info:\")\n",
    "pragma_result = con.execute(f\"PRAGMA table_info('{table_name}')\").fetchall()\n",
    "# The result format is: (column_id, column_name, column_type, nullable, default_value, is_primary_key)\n",
    "for col in pragma_result:\n",
    "    print(f\"- {col[1]} ({col[2]})\")\n",
    "\n",
    "\n",
    "# Close the connection\n",
    "con.close()\n"
   ]
  },
  {
   "cell_type": "code",
   "execution_count": null,
   "id": "f326f267",
   "metadata": {},
   "outputs": [
    {
     "name": "stdout",
     "output_type": "stream",
     "text": [
      "An error occurred: Catalog Error: Table with name my_table does not exist!\n",
      "Did you mean \"pg_tables\"?\n",
      "\n",
      "LINE 1: SELECT * FROM \"my_table\" LIMIT 5\n",
      "                      ^\n"
     ]
    }
   ],
   "source": []
  }
 ],
 "metadata": {
  "kernelspec": {
   "display_name": ".venv",
   "language": "python",
   "name": "python3"
  },
  "language_info": {
   "codemirror_mode": {
    "name": "ipython",
    "version": 3
   },
   "file_extension": ".py",
   "mimetype": "text/x-python",
   "name": "python",
   "nbconvert_exporter": "python",
   "pygments_lexer": "ipython3",
   "version": "3.12.3"
  }
 },
 "nbformat": 4,
 "nbformat_minor": 5
}
