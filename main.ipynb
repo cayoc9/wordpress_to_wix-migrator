{
 "cells": [
  {
   "cell_type": "markdown",
   "id": "b133aaf3",
   "metadata": {},
   "source": [
    "base de dados:\n",
    "- dados dos posts wordpress (pre-migração)\n",
    "- dados dos posts wix (pós-migração)\n",
    "\n",
    "Como organizar os dados de forma que facilite a migração e tratamento entre as duas plataformas?\n",
    "\n",
    "criar um arquivo "
   ]
  },
  {
   "cell_type": "markdown",
   "id": "82c3a9f0",
   "metadata": {},
   "source": []
  },
  {
   "cell_type": "code",
   "execution_count": null,
   "id": "3c4708b4",
   "metadata": {
    "vscode": {
     "languageId": "plaintext"
    }
   },
   "outputs": [],
   "source": []
  }
 ],
 "metadata": {
  "language_info": {
   "name": "python"
  }
 },
 "nbformat": 4,
 "nbformat_minor": 5
}
